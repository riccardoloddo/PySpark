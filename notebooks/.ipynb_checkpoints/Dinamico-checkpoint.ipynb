{
 "cells": [
  {
   "cell_type": "code",
   "execution_count": 1,
   "id": "5c56f220-67b9-43c9-9964-e12c0e379c0b",
   "metadata": {},
   "outputs": [],
   "source": [
    "import csv\n",
    "from datetime import datetime\n",
    "import os\n",
    "import re\n",
    "import logging\n",
    "\n",
    "from pyspark.sql import SparkSession\n",
    "from pyspark.sql.types import StructType, StructField, StringType, DoubleType, DateType, IntegerType\n",
    "from pyspark.sql.functions import current_date, col, to_date, when, current_timestamp, monotonically_increasing_id, lit, upper, lower"
   ]
  },
  {
   "cell_type": "code",
   "execution_count": null,
   "id": "a7f97f21-5074-418d-9640-848739a976b2",
   "metadata": {},
   "outputs": [],
   "source": []
  },
  {
   "cell_type": "code",
   "execution_count": 2,
   "id": "3b748a5a-6935-413d-aa10-dff618b7e805",
   "metadata": {},
   "outputs": [],
   "source": [
    "class TabellaDipendenti:\n",
    "    \n",
    "    def __init__(self, path_csv, path_log, idrun):\n",
    "            self.spark = (\n",
    "                SparkSession.builder\n",
    "                .master(\"local[1]\")\n",
    "                .appName(\"FlussoGenerico\")\n",
    "                .getOrCreate()\n",
    "            )\n",
    "\n",
    "            self.idrun = idrun\n",
    "            self.path_log = path_log\n",
    "\n",
    "            # Lettura generica: header dalla prima riga, tutto come stringa\n",
    "            self.df = (\n",
    "                self.spark.read\n",
    "                .option(\"header\", True)   # la prima riga diventa header\n",
    "                .option(\"inferSchema\", False)  # tutto stringa, conversione dopo\n",
    "                .csv(path_csv)\n",
    "            )\n",
    "\n",
    "            # Aggiungo data inserimento\n",
    "            self.df = self.df.withColumn(\"DINS\", current_date())\n",
    "\n",
    "            # Logging configurazione\n",
    "            logging.basicConfig(\n",
    "                filename=self.path_log,\n",
    "                filemode='w',\n",
    "                level=logging.INFO,\n",
    "                format=\"%(message)s\",\n",
    "                force=True\n",
    "            )\n",
    "\n",
    "            # Log iniziale\n",
    "            logging.info(\n",
    "                \"IDRUN=%s, Operazione=Costruttore, Stato=OK, File=%s, Data=%s\",\n",
    "                idrun, path_csv, datetime.now().strftime(\"%Y-%m-%d %H:%M:%S\")\n",
    "            )"
   ]
  },
  {
   "cell_type": "code",
   "execution_count": 6,
   "id": "42185570-1498-4281-b3f2-bb48308d8511",
   "metadata": {},
   "outputs": [],
   "source": [
    "flusso = TabellaDipendenti(\n",
    "        path_csv=\"../data/FlussoDip.csv\",\n",
    "        path_log=\"../logs/tlog.txt\",\n",
    "        idrun=1\n",
    "    )"
   ]
  },
  {
   "cell_type": "code",
   "execution_count": 7,
   "id": "fdc23257-de6e-478c-a7f9-a58f2610a1b3",
   "metadata": {},
   "outputs": [
    {
     "name": "stdout",
     "output_type": "stream",
     "text": [
      "root\n",
      " |-- ID_CLIENTE: string (nullable = true)\n",
      " |-- NOME: string (nullable = true)\n",
      " |-- COGNOME: string (nullable = true)\n",
      " |-- EMAIL: string (nullable = true)\n",
      " |-- SPESA_TOTALE: string (nullable = true)\n",
      " |-- DATA_ISCRIZIONE: string (nullable = true)\n",
      " |-- STATO: string (nullable = true)\n",
      " |-- DINS: date (nullable = false)\n",
      "\n"
     ]
    }
   ],
   "source": [
    "flusso.df.printSchema()"
   ]
  },
  {
   "cell_type": "code",
   "execution_count": 8,
   "id": "2517b07e-d8cf-42cf-91fd-077bfee6fd78",
   "metadata": {},
   "outputs": [
    {
     "name": "stdout",
     "output_type": "stream",
     "text": [
      "+----------+--------+----------+--------------------+------------+---------------+---------+----------+\n",
      "|ID_CLIENTE|    NOME|   COGNOME|               EMAIL|SPESA_TOTALE|DATA_ISCRIZIONE|    STATO|      DINS|\n",
      "+----------+--------+----------+--------------------+------------+---------------+---------+----------+\n",
      "|         1|    Anna|     Rossi|anna.rossi@exampl...|     1200.50|     2020-05-15|   ATTIVO|2025-09-27|\n",
      "|         2|    Luca|   Bianchi|luca.bianchi@example|         abc|     2019-13-40|   ATTIVO|2025-09-27|\n",
      "|         3| Claudia|     Verdi|                NULL|      890.00|     2018-07-22|DISATTIVO|2025-09-27|\n",
      "|         4|   Paolo|      Neri|paolo.neri@exampl...|      450.30|     2021-02-30|   ATTIVO|2025-09-27|\n",
      "|         5| Giorgio|     Ferri|giorgio.ferri@exa...|        1000|     2017-11-05|     NULL|2025-09-27|\n",
      "|         6| Martina|     Lanza|martina.lanza@exa...|        -300|     2016-08-12|   ATTIVO|2025-09-27|\n",
      "|         7| Filippo|     Baldi|filippo.baldi@exa...|         NaN|     2015-03-01|   ATTIVO|2025-09-27|\n",
      "|         8| Daniele|    Moroni|daniele.moroni@ex...|      850.75|     201x-06-18|DISATTIVO|2025-09-27|\n",
      "|         9|  Simone|Sportiello|simone.sportiello...|           0|     2019-12-12|   ATTIVO|2025-09-27|\n",
      "|        10|Concetta|      NULL|concetta.lanza@ex...|         500|     2018-09-09|   ATTIVO|2025-09-27|\n",
      "+----------+--------+----------+--------------------+------------+---------------+---------+----------+\n",
      "\n"
     ]
    }
   ],
   "source": [
    "flusso.df.show()"
   ]
  },
  {
   "cell_type": "code",
   "execution_count": null,
   "id": "c310e8f8-001e-4922-93a2-f1465e6b7952",
   "metadata": {},
   "outputs": [],
   "source": []
  }
 ],
 "metadata": {
  "kernelspec": {
   "display_name": "Python 3 (ipykernel)",
   "language": "python",
   "name": "python3"
  },
  "language_info": {
   "codemirror_mode": {
    "name": "ipython",
    "version": 3
   },
   "file_extension": ".py",
   "mimetype": "text/x-python",
   "name": "python",
   "nbconvert_exporter": "python",
   "pygments_lexer": "ipython3",
   "version": "3.9.7"
  }
 },
 "nbformat": 4,
 "nbformat_minor": 5
}
